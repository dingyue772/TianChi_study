{
 "cells": [
  {
   "cell_type": "markdown",
   "id": "56c8217a",
   "metadata": {},
   "source": [
    "# 常量"
   ]
  },
  {
   "cell_type": "code",
   "execution_count": 2,
   "id": "8545ea34",
   "metadata": {
    "ExecuteTime": {
     "end_time": "2024-02-22T13:01:58.417814Z",
     "start_time": "2024-02-22T13:01:58.393285Z"
    }
   },
   "outputs": [
    {
     "name": "stdout",
     "output_type": "stream",
     "text": [
      "False\n",
      "[ 1.  2.  8. nan 10.]\n",
      "[False False False  True False]\n",
      "1\n"
     ]
    }
   ],
   "source": [
    "import numpy as np\n",
    "# 1. 两个numpy.nan不等 \n",
    "print(np.nan == np.nan) # False\n",
    "x = np.array([1, 2, 8, np.nan, 10])\n",
    "print(x) # [ 1.  2.  8. nan 10.]\n",
    "# 2. 使用np.isnan判断numpy矩阵中是否有nan值，返回一个boolean矩阵 \n",
    "y = np.isnan(x) \n",
    "print(y) # [False False False  True False]\n",
    "# 3. 计数numpy数组中的非零值 \n",
    "z = np.count_nonzero(y) \n",
    "print(z) # 1"
   ]
  },
  {
   "cell_type": "markdown",
   "id": "f326223d",
   "metadata": {},
   "source": [
    "# 数据类型"
   ]
  },
  {
   "cell_type": "code",
   "execution_count": 3,
   "id": "f2cb88d4",
   "metadata": {
    "ExecuteTime": {
     "end_time": "2024-02-22T13:31:07.713196Z",
     "start_time": "2024-02-22T13:31:07.701142Z"
    }
   },
   "outputs": [
    {
     "name": "stdout",
     "output_type": "stream",
     "text": [
      "<class 'numpy.bool_'>\n",
      "1\n"
     ]
    }
   ],
   "source": [
    "# 数据类型的创建\n",
    "a = np.dtype('b1')\n",
    "# 打印变量的数据类型\n",
    "print(a.type) # <class 'numpy.bool_'> \n",
    "# 打印变量占据的内存大小\n",
    "print(a.itemsize) # 1 "
   ]
  },
  {
   "cell_type": "code",
   "execution_count": 5,
   "id": "08e7ab7f",
   "metadata": {
    "ExecuteTime": {
     "end_time": "2024-02-22T13:36:30.140971Z",
     "start_time": "2024-02-22T13:36:30.119456Z"
    }
   },
   "outputs": [
    {
     "name": "stdout",
     "output_type": "stream",
     "text": [
      "-32768\n",
      "32767\n",
      "16\n",
      "-65500.0\n",
      "65500.0\n",
      "0.000977\n"
     ]
    }
   ],
   "source": [
    "# 整数类型的数据类型信息\n",
    "ii16 = np.iinfo(np.int16)\n",
    "print(ii16.min) # -32768\n",
    "print(ii16.max) # 32767\n",
    "# 浮点数类型的数据类型信息\n",
    "ff16 = np.finfo(np.float16)\n",
    "print(ff16.bits) # 16\n",
    "print(ff16.min) # -65500.0\n",
    "print(ff16.max) # 65500.0\n",
    "print(ff16.eps) # 0.000977"
   ]
  },
  {
   "cell_type": "markdown",
   "id": "07d49c65",
   "metadata": {},
   "source": [
    "# 时间日期和时间增量"
   ]
  },
  {
   "cell_type": "code",
   "execution_count": 12,
   "id": "83faa212",
   "metadata": {
    "ExecuteTime": {
     "end_time": "2024-02-23T03:20:39.348245Z",
     "start_time": "2024-02-23T03:20:39.326551Z"
    }
   },
   "outputs": [
    {
     "name": "stdout",
     "output_type": "stream",
     "text": [
      "2020-03-01 datetime64[D]\n",
      "2020-03 datetime64[M]\n",
      "2020-03-08T20:00:05 datetime64[s]\n",
      "2020-03-08T20:00 datetime64[m]\n",
      "2020-03-08T20 datetime64[h]\n",
      "2020-03-01 datetime64[D]\n",
      "2020 datetime64[Y]\n",
      "['2020-03-01T00:00' '2020-03-08T00:00' '2020-03-08T20:00'] datetime64[m]\n",
      "['2020-08-01' '2020-08-02' '2020-08-03' '2020-08-04' '2020-08-05'\n",
      " '2020-08-06' '2020-08-07' '2020-08-08' '2020-08-09']\n",
      "datetime64[D]\n",
      "['2020-08-01T20:00' '2020-08-01T20:01' '2020-08-01T20:02' ...\n",
      " '2020-08-09T23:57' '2020-08-09T23:58' '2020-08-09T23:59']\n",
      "['2020-05' '2020-06' '2020-07' '2020-08' '2020-09' '2020-10' '2020-11']\n"
     ]
    }
   ],
   "source": [
    "# 从字符串创建 datetime64 类型，默认自动选择单位\n",
    "a = np.datetime64('2020-03-01')\n",
    "print(a, a.dtype)\n",
    "a = np.datetime64('2020-03')\n",
    "print(a, a.dtype)\n",
    "a = np.datetime64('2020-03-08 20:00:05')\n",
    "print(a, a.dtype)\n",
    "a = np.datetime64('2020-03-08 20:00')\n",
    "print(a, a.dtype)\n",
    "a = np.datetime64('2020-03-08 20')\n",
    "print(a, a.dtype)\n",
    "# 从字符串创建 datetime64 类型，强制指定使用的单位\n",
    "a = np.datetime64('2020-03', 'D')\n",
    "print(a, a.dtype)\n",
    "a = np.datetime64('2020-03', 'Y')\n",
    "print(a, a.dtype)\n",
    "# datetime64数组自动单位转换，一律转化为其中最小的单位\n",
    "a = np.array(['2020-03', '2020-03-08', '2020-03-08 20:00'], dtype='datetime64')\n",
    "print(a, a.dtype)\n",
    "# 使用arange()chauchau创建datetime64数组，生成日期范围\n",
    "# 递增单位为天\n",
    "a = np.arange('2020-08-01', '2020-08-10', dtype=np.datetime64)\n",
    "print(a)\n",
    "print(a.dtype)\n",
    "# 递增单位为分钟\n",
    "a = np.arange('2020-08-01 20:00', '2020-08-10', dtype=np.datetime64)\n",
    "print(a)\n",
    "# 递增单位为月\n",
    "a = np.arange('2020-05', '2020-12', dtype=np.datetime64)\n",
    "print(a)"
   ]
  },
  {
   "cell_type": "markdown",
   "id": "9cbac1e9",
   "metadata": {},
   "source": [
    "## datetime64和timedelta64运算"
   ]
  },
  {
   "cell_type": "code",
   "execution_count": 13,
   "id": "e97dc32b",
   "metadata": {
    "ExecuteTime": {
     "end_time": "2024-02-23T03:23:07.660831Z",
     "start_time": "2024-02-23T03:23:07.640822Z"
    }
   },
   "outputs": [
    {
     "name": "stdout",
     "output_type": "stream",
     "text": [
      "1 days timedelta64[D]\n",
      "956178240 minutes timedelta64[m]\n",
      "1 days timedelta64[D]\n"
     ]
    }
   ],
   "source": [
    "a = np.datetime64('2020-03-08') - np.datetime64('2020-03-07')\n",
    "b = np.datetime64('2020-03-08') - np.datetime64('202-03-07 08:00')\n",
    "c = np.datetime64('2020-03-08') - np.datetime64('2020-03-07 23:00', 'D')\n",
    "print(a, a.dtype)\n",
    "print(b, b.dtype)\n",
    "print(c, c.dtype)"
   ]
  },
  {
   "cell_type": "code",
   "execution_count": 14,
   "id": "bb4bf9de",
   "metadata": {
    "ExecuteTime": {
     "end_time": "2024-02-23T03:24:27.508936Z",
     "start_time": "2024-02-23T03:24:27.489836Z"
    }
   },
   "outputs": [
    {
     "name": "stdout",
     "output_type": "stream",
     "text": [
      "2020-03-21 datetime64[D]\n",
      "2020-06-15T12:00 datetime64[m]\n"
     ]
    }
   ],
   "source": [
    "a = np.datetime64('2020-03') + np.timedelta64(20, 'D')\n",
    "b = np.datetime64('2020-06-15 00:00') + np.timedelta64(12, 'h')\n",
    "print(a, a.dtype)\n",
    "print(b, b.dtype)"
   ]
  },
  {
   "cell_type": "code",
   "execution_count": 18,
   "id": "7a1b41a4",
   "metadata": {
    "ExecuteTime": {
     "end_time": "2024-02-23T04:42:33.235555Z",
     "start_time": "2024-02-23T04:42:33.227470Z"
    }
   },
   "outputs": [
    {
     "name": "stdout",
     "output_type": "stream",
     "text": [
      "1 years\n",
      "12 months\n",
      "1 hours\n",
      "60 minutes\n"
     ]
    }
   ],
   "source": [
    "a = np.timedelta64(1, 'Y')\n",
    "b = np.timedelta64(a, 'M')\n",
    "print(a)\n",
    "print(b)\n",
    "c = np.timedelta64(1, 'h')\n",
    "d = np.timedelta64(c, 'm')\n",
    "print(c)\n",
    "print(d)\n",
    "# 月和天不能直接转化 因为每个月有多少天是不确定的\n",
    "# print(np.timedelta64(a, 'D'))"
   ]
  },
  {
   "cell_type": "code",
   "execution_count": 19,
   "id": "adb63ec7",
   "metadata": {
    "ExecuteTime": {
     "end_time": "2024-02-23T04:43:58.301906Z",
     "start_time": "2024-02-23T04:43:58.285908Z"
    }
   },
   "outputs": [
    {
     "name": "stdout",
     "output_type": "stream",
     "text": [
      "1 years\n",
      "6 months\n",
      "18 months\n",
      "6 months\n",
      "2 years\n",
      "2.0\n",
      "7.0\n",
      "7 days\n"
     ]
    }
   ],
   "source": [
    "a = np.timedelta64(1, 'Y')\n",
    "b = np.timedelta64(6, 'M')\n",
    "c = np.timedelta64(1, 'W')\n",
    "d = np.timedelta64(1, 'D')\n",
    "e = np.timedelta64(10, 'D')\n",
    "\n",
    "print(a)  # 1 years\n",
    "print(b)  # 6 months\n",
    "print(a + b)  # 18 months\n",
    "print(a - b)  # 6 months\n",
    "print(2 * a)  # 2 years\n",
    "print(a / b)  # 2.0\n",
    "print(c / d)  # 7.0\n",
    "print(c % e)  # 7 days"
   ]
  },
  {
   "cell_type": "code",
   "execution_count": 21,
   "id": "0dfe1f11",
   "metadata": {
    "ExecuteTime": {
     "end_time": "2024-02-23T04:46:00.526293Z",
     "start_time": "2024-02-23T04:46:00.511382Z"
    }
   },
   "outputs": [
    {
     "name": "stdout",
     "output_type": "stream",
     "text": [
      "2020-06-01T20:05:30 datetime64[s]\n",
      "2020-06-01 20:05:30 <class 'datetime.datetime'>\n"
     ]
    }
   ],
   "source": [
    "# numpy.datetime64和datetime.datetime相互转换\n",
    "import datetime\n",
    "dt = datetime.datetime(year=2020, month=6, day=1, hour=20, minute=5, second=30)\n",
    "dt64 = np.datetime64(dt, 's')\n",
    "print(dt64, dt64.dtype)\n",
    "dt2 = dt64.astype(datetime.datetime)\n",
    "print(dt2, type(dt2))"
   ]
  },
  {
   "cell_type": "markdown",
   "id": "680c97d2",
   "metadata": {},
   "source": [
    "## datetime64的应用"
   ]
  },
  {
   "cell_type": "code",
   "execution_count": 25,
   "id": "442bc516",
   "metadata": {
    "ExecuteTime": {
     "end_time": "2024-02-23T04:52:32.259472Z",
     "start_time": "2024-02-23T04:52:32.251471Z"
    }
   },
   "outputs": [
    {
     "name": "stdout",
     "output_type": "stream",
     "text": [
      "2020-07-13\n",
      "2020-07-13\n",
      "2020-07-10\n",
      "2020-07-14\n",
      "2020-07-13\n"
     ]
    }
   ],
   "source": [
    "# 2020-07-10 星期五\n",
    "a = np.busday_offset('2020-07-10', offsets=1)\n",
    "print(a)\n",
    "# a = np.busday_offset('2020-07-11', offsets=1)\n",
    "# print(a)\n",
    "a = np.busday_offset('2020-07-11', offsets=0, roll='forward')\n",
    "b = np.busday_offset('2020-07-11', offsets=0, roll='backward')\n",
    "print(a)  # 2020-07-13\n",
    "print(b)  # 2020-07-10\n",
    "a = np.busday_offset('2020-07-11', offsets=1, roll='forward')\n",
    "b = np.busday_offset('2020-07-11', offsets=1, roll='backward')\n",
    "print(a)  # 2020-07-14\n",
    "print(b)  # 2020-07-13"
   ]
  },
  {
   "cell_type": "code",
   "execution_count": 26,
   "id": "defef62d",
   "metadata": {
    "ExecuteTime": {
     "end_time": "2024-02-23T04:55:28.719971Z",
     "start_time": "2024-02-23T04:55:28.707989Z"
    }
   },
   "outputs": [
    {
     "name": "stdout",
     "output_type": "stream",
     "text": [
      "True\n",
      "False\n"
     ]
    }
   ],
   "source": [
    "# 2020-07-10 星期五\n",
    "a = np.is_busday('2020-07-10')\n",
    "b = np.is_busday('2020-07-11')\n",
    "print(a)  # True\n",
    "print(b)  # False"
   ]
  },
  {
   "cell_type": "code",
   "execution_count": 27,
   "id": "29fd889a",
   "metadata": {
    "ExecuteTime": {
     "end_time": "2024-02-23T04:56:02.498737Z",
     "start_time": "2024-02-23T04:56:02.492739Z"
    }
   },
   "outputs": [
    {
     "name": "stdout",
     "output_type": "stream",
     "text": [
      "['2020-07-10' '2020-07-11' '2020-07-12' '2020-07-13' '2020-07-14'\n",
      " '2020-07-15' '2020-07-16' '2020-07-17' '2020-07-18' '2020-07-19']\n",
      "6\n"
     ]
    }
   ],
   "source": [
    "# 计数指定日期区间内的工作日\n",
    "begindates = np.datetime64('2020-07-10')\n",
    "enddates = np.datetime64('2020-07-20')\n",
    "a = np.arange(begindates, enddates, dtype='datetime64')\n",
    "b = np.count_nonzero(np.is_busday(a))\n",
    "print(a)\n",
    "# ['2020-07-10' '2020-07-11' '2020-07-12' '2020-07-13' '2020-07-14'\n",
    "#  '2020-07-15' '2020-07-16' '2020-07-17' '2020-07-18' '2020-07-19']\n",
    "print(b)  # 6"
   ]
  },
  {
   "cell_type": "code",
   "execution_count": 28,
   "id": "93f3e7fd",
   "metadata": {
    "ExecuteTime": {
     "end_time": "2024-02-23T04:57:31.283520Z",
     "start_time": "2024-02-23T04:57:31.276521Z"
    }
   },
   "outputs": [
    {
     "name": "stdout",
     "output_type": "stream",
     "text": [
      "False\n",
      "False\n"
     ]
    }
   ],
   "source": [
    "# 自定义周掩码值\n",
    "a = np.is_busday('2020-07-10', weekmask=[1, 1, 1, 0, 0, 1, 1])\n",
    "b = np.is_busday('2020-07-10', weekmask=[1, 1, 1, 0, 0, 1, 1])\n",
    "print(a)  # True\n",
    "print(b)  # False"
   ]
  },
  {
   "cell_type": "code",
   "execution_count": 29,
   "id": "ecf0720a",
   "metadata": {
    "ExecuteTime": {
     "end_time": "2024-02-23T04:58:53.676759Z",
     "start_time": "2024-02-23T04:58:53.657242Z"
    }
   },
   "outputs": [
    {
     "name": "stdout",
     "output_type": "stream",
     "text": [
      "6\n",
      "-6\n"
     ]
    }
   ],
   "source": [
    "# 使用np.busday_count计数指定日期区间内的工作日数量\n",
    "begindates = np.datetime64('2020-07-10')\n",
    "enddates = np.datetime64('2020-07-20')\n",
    "a = np.busday_count(begindates, enddates)\n",
    "b = np.busday_count(enddates, begindates)\n",
    "print(a)  # 6\n",
    "print(b)  # -6"
   ]
  },
  {
   "cell_type": "markdown",
   "id": "5008d91a",
   "metadata": {},
   "source": [
    "# 数组的创建"
   ]
  },
  {
   "cell_type": "markdown",
   "id": "d0cd3a1a",
   "metadata": {},
   "source": [
    "## 依据现有数据创建ndarray"
   ]
  },
  {
   "cell_type": "code",
   "execution_count": 31,
   "id": "786df3ba",
   "metadata": {
    "ExecuteTime": {
     "end_time": "2024-02-23T05:11:37.388378Z",
     "start_time": "2024-02-23T05:11:37.367296Z"
    }
   },
   "outputs": [
    {
     "name": "stdout",
     "output_type": "stream",
     "text": [
      "[0 1 2 3 4] <class 'numpy.ndarray'>\n",
      "[0 1 2 3 4] <class 'numpy.ndarray'>\n",
      "[[11 12 13 14 15]\n",
      " [16 17 18 19 20]\n",
      " [21 22 23 24 25]\n",
      " [26 27 28 29 30]\n",
      " [31 32 33 34 35]] <class 'numpy.ndarray'>\n",
      "[[[1.5 2.  3. ]\n",
      "  [4.  5.  6. ]]\n",
      "\n",
      " [[3.  2.  1. ]\n",
      "  [4.  5.  6. ]]] <class 'numpy.ndarray'>\n"
     ]
    }
   ],
   "source": [
    "# 使用array()函数创建数组\n",
    "# 一维数组\n",
    "a = np.array([0, 1, 2, 3, 4]) # 通过list创建\n",
    "b = np.array((0, 1, 2, 3, 4)) # 通过tuple创建\n",
    "print(a, type(a))\n",
    "# [0 1 2 3 4] <class 'numpy.ndarray'>\n",
    "print(b, type(b))\n",
    "# [0 1 2 3 4] <class 'numpy.ndarray'>\n",
    "# 二维数组\n",
    "c = np.array([[11, 12, 13, 14, 15],\n",
    "              [16, 17, 18, 19, 20],\n",
    "              [21, 22, 23, 24, 25],\n",
    "              [26, 27, 28, 29, 30],\n",
    "              [31, 32, 33, 34, 35]])\n",
    "print(c, type(c))\n",
    "# 三维数组\n",
    "d = np.array([[(1.5, 2, 3), (4, 5, 6)],\n",
    "              [(3, 2, 1), (4, 5, 6)]])\n",
    "print(d, type(d))"
   ]
  },
  {
   "cell_type": "code",
   "execution_count": 34,
   "id": "cd856215",
   "metadata": {
    "ExecuteTime": {
     "end_time": "2024-02-23T05:21:06.988739Z",
     "start_time": "2024-02-23T05:21:06.979639Z"
    }
   },
   "outputs": [
    {
     "name": "stdout",
     "output_type": "stream",
     "text": [
      "[[1, 1, 1], [1, 1, 2], [1, 1, 1]] <class 'list'>\n",
      "[[1 1 1]\n",
      " [1 1 1]\n",
      " [1 1 1]] <class 'numpy.ndarray'>\n",
      "[[1 1 1]\n",
      " [1 1 1]\n",
      " [1 1 1]] <class 'numpy.ndarray'>\n",
      "[[1 1 1]\n",
      " [1 1 2]\n",
      " [1 1 1]] <class 'numpy.ndarray'> int32\n",
      "[[1 1 1]\n",
      " [1 1 1]\n",
      " [1 1 1]] <class 'numpy.ndarray'> int32\n",
      "[[1 1 1]\n",
      " [1 1 2]\n",
      " [1 1 1]] <class 'numpy.ndarray'> int32\n",
      "[[1 1 1]\n",
      " [1 1 2]\n",
      " [1 1 1]] <class 'numpy.ndarray'> int32\n"
     ]
    }
   ],
   "source": [
    "# 使用asarray()函数创建数组\n",
    "x = [[1, 1, 1], [1, 1, 1], [1, 1, 1]]\n",
    "y = np.array(x)\n",
    "z = np.asarray(x)\n",
    "x[1][2] = 2\n",
    "print(x,type(x))\n",
    "print(y,type(y))\n",
    "print(z,type(z))\n",
    "# 当数据源为ndarray时，对比array()函数和asarray()函数\n",
    "x = np.array([[1, 1, 1], [1, 1, 1], [1, 1, 1]])\n",
    "y = np.array(x)\n",
    "z = np.asarray(x)\n",
    "w = np.asarray(x, dtype=np.int32)\n",
    "x[1][2] = 2\n",
    "print(x,type(x),x.dtype)\n",
    "print(y,type(y),y.dtype)\n",
    "print(z,type(z),z.dtype)\n",
    "print(w,type(w),w.dtype)"
   ]
  },
  {
   "cell_type": "code",
   "execution_count": 38,
   "id": "45e9c2ef",
   "metadata": {
    "ExecuteTime": {
     "end_time": "2024-02-23T05:22:45.058501Z",
     "start_time": "2024-02-23T05:22:45.042492Z"
    }
   },
   "outputs": [
    {
     "name": "stdout",
     "output_type": "stream",
     "text": [
      "[[1 1 1]\n",
      " [1 1 1]\n",
      " [1 1 1]] int32\n"
     ]
    },
    {
     "ename": "ValueError",
     "evalue": "When changing to a larger dtype, its size must be a divisor of the total size in bytes of the last axis of the array.",
     "output_type": "error",
     "traceback": [
      "\u001b[1;31m---------------------------------------------------------------------------\u001b[0m",
      "\u001b[1;31mValueError\u001b[0m                                Traceback (most recent call last)",
      "\u001b[1;32m~\\AppData\\Local\\Temp\\ipykernel_21528\\2579951346.py\u001b[0m in \u001b[0;36m<module>\u001b[1;34m\u001b[0m\n\u001b[0;32m      5\u001b[0m \u001b[1;31m#  [1 1 1]\u001b[0m\u001b[1;33m\u001b[0m\u001b[1;33m\u001b[0m\u001b[0m\n\u001b[0;32m      6\u001b[0m \u001b[1;31m#  [1 1 1]] int32\u001b[0m\u001b[1;33m\u001b[0m\u001b[1;33m\u001b[0m\u001b[0m\n\u001b[1;32m----> 7\u001b[1;33m \u001b[0mx\u001b[0m\u001b[1;33m.\u001b[0m\u001b[0mdtype\u001b[0m \u001b[1;33m=\u001b[0m \u001b[0mnp\u001b[0m\u001b[1;33m.\u001b[0m\u001b[0mfloat64\u001b[0m\u001b[1;33m\u001b[0m\u001b[1;33m\u001b[0m\u001b[0m\n\u001b[0m",
      "\u001b[1;31mValueError\u001b[0m: When changing to a larger dtype, its size must be a divisor of the total size in bytes of the last axis of the array."
     ]
    }
   ],
   "source": [
    "# ndarray中dtype的修改\n",
    "x = np.array([[1, 1, 1], [1, 1, 1], [1, 1, 1]])\n",
    "print(x, x.dtype)\n",
    "# [[1 1 1]\n",
    "#  [1 1 1]\n",
    "#  [1 1 1]] int32\n",
    "x.dtype = np.float64 # ValueError: When changing to a larger dtype, its size must be a divisor of the total size in bytes of the last axis of the array."
   ]
  },
  {
   "cell_type": "code",
   "execution_count": 39,
   "id": "b4f86fb0",
   "metadata": {
    "ExecuteTime": {
     "end_time": "2024-02-23T05:27:11.504929Z",
     "start_time": "2024-02-23T05:27:11.485415Z"
    }
   },
   "outputs": [
    {
     "name": "stdout",
     "output_type": "stream",
     "text": [
      "[[ 0  1  2  3]\n",
      " [10 11 12 13]\n",
      " [20 21 22 23]\n",
      " [30 31 32 33]\n",
      " [40 41 42 43]]\n",
      "[[ True False False]\n",
      " [False  True False]\n",
      " [False False  True]]\n",
      "[[0 1 2]\n",
      " [1 2 3]\n",
      " [2 3 4]]\n"
     ]
    }
   ],
   "source": [
    "# fromfunction函数创建ndarray\n",
    "def f(x, y):\n",
    "    return 10 * x + y\n",
    "x = np.fromfunction(f, (5, 4), dtype=int)\n",
    "print(x)\n",
    "x = np.fromfunction(lambda i, j: i == j, (3, 3), dtype=int)\n",
    "print(x)\n",
    "x = np.fromfunction(lambda i, j: i+j, (3, 3), dtype=int)\n",
    "print(x)\n",
    "# fromfunction中的第一个参数为ndarray中每个值的计算方法，这个计算方法为一个包含两个参数的函数，这两个参数分别是数组值的所在坐标"
   ]
  },
  {
   "cell_type": "markdown",
   "id": "f1e69d3c",
   "metadata": {},
   "source": [
    "## 依据ones和zeros填充ndarray"
   ]
  },
  {
   "cell_type": "code",
   "execution_count": 41,
   "id": "c13204e4",
   "metadata": {
    "ExecuteTime": {
     "end_time": "2024-02-23T06:38:06.823908Z",
     "start_time": "2024-02-23T06:38:06.807796Z"
    }
   },
   "outputs": [
    {
     "name": "stdout",
     "output_type": "stream",
     "text": [
      "[0. 0. 0. 0. 0.]\n",
      "[[0. 0. 0.]\n",
      " [0. 0. 0.]]\n",
      "[[0 0 0]\n",
      " [0 0 0]]\n"
     ]
    }
   ],
   "source": [
    "# zeros数组\n",
    "x = np.zeros(5)\n",
    "print(x)\n",
    "x = np.zeros([2,3])\n",
    "print(x)\n",
    "\n",
    "x = np.array([[1,2,3], [4,5,6]])\n",
    "y = np.zeros_like(x)\n",
    "print(y)"
   ]
  },
  {
   "cell_type": "code",
   "execution_count": 42,
   "id": "cd641b7a",
   "metadata": {
    "ExecuteTime": {
     "end_time": "2024-02-23T06:39:25.256855Z",
     "start_time": "2024-02-23T06:39:25.239849Z"
    }
   },
   "outputs": [
    {
     "name": "stdout",
     "output_type": "stream",
     "text": [
      "[1. 1. 1. 1. 1.]\n",
      "[[1. 1. 1.]\n",
      " [1. 1. 1.]]\n",
      "[[1 1 1]\n",
      " [1 1 1]]\n"
     ]
    }
   ],
   "source": [
    "x = np.ones(5)\n",
    "print(x)  # [1. 1. 1. 1. 1.]\n",
    "x = np.ones([2, 3])\n",
    "print(x)\n",
    "\n",
    "x = np.array([[1, 2, 3], [4, 5, 6]])\n",
    "y = np.ones_like(x)\n",
    "print(y)"
   ]
  },
  {
   "cell_type": "code",
   "execution_count": 44,
   "id": "37ee815f",
   "metadata": {
    "ExecuteTime": {
     "end_time": "2024-02-23T06:42:34.178154Z",
     "start_time": "2024-02-23T06:42:34.158195Z"
    }
   },
   "outputs": [
    {
     "name": "stdout",
     "output_type": "stream",
     "text": [
      "[1. 1. 1. 1. 1.]\n",
      "[[0. 0.]\n",
      " [0. 0.]\n",
      " [0. 0.]]\n",
      "[[-1329469632         703           0]\n",
      " [          0      131074           0]]\n"
     ]
    }
   ],
   "source": [
    "x = np.empty(5)\n",
    "print(x)\n",
    "x = np.empty([3,2])\n",
    "print(x)\n",
    "x = np.array([[1,2,3], [4,5,6]])\n",
    "y = np.empty_like(x)\n",
    "print(y)"
   ]
  },
  {
   "cell_type": "code",
   "execution_count": 45,
   "id": "ae2b0d7c",
   "metadata": {
    "ExecuteTime": {
     "end_time": "2024-02-23T06:44:27.880626Z",
     "start_time": "2024-02-23T06:44:27.868512Z"
    }
   },
   "outputs": [
    {
     "name": "stdout",
     "output_type": "stream",
     "text": [
      "[[1. 0. 0. 0.]\n",
      " [0. 1. 0. 0.]\n",
      " [0. 0. 1. 0.]\n",
      " [0. 0. 0. 1.]]\n",
      "[[1. 0. 0.]\n",
      " [0. 1. 0.]]\n",
      "[[1. 0. 0. 0.]\n",
      " [0. 1. 0. 0.]\n",
      " [0. 0. 1. 0.]\n",
      " [0. 0. 0. 1.]]\n"
     ]
    }
   ],
   "source": [
    "x = np.eye(4)\n",
    "print(x)\n",
    "x = np.eye(2,3) # eye()函数可以接受任意形状的矩阵\n",
    "print(x)\n",
    "x = np.identity(4)\n",
    "print(x)"
   ]
  },
  {
   "cell_type": "code",
   "execution_count": 46,
   "id": "25c254d6",
   "metadata": {
    "ExecuteTime": {
     "end_time": "2024-02-23T06:48:48.030184Z",
     "start_time": "2024-02-23T06:48:48.013101Z"
    }
   },
   "outputs": [
    {
     "name": "stdout",
     "output_type": "stream",
     "text": [
      "[[0 1 2]\n",
      " [3 4 5]\n",
      " [6 7 8]]\n",
      "[0 4 8]\n",
      "[1 5]\n",
      "[3 7]\n",
      "[[1 0 0 0]\n",
      " [0 3 0 0]\n",
      " [0 0 5 0]\n",
      " [0 0 0 7]]\n"
     ]
    }
   ],
   "source": [
    "# 提取方阵的对角元素\n",
    "x = np.arange(9).reshape((3,3))\n",
    "print(x)\n",
    "print(np.diag(x))\n",
    "print(np.diag(x, k=1))\n",
    "print(np.diag(x, k=-1))\n",
    "# 构造对角矩阵\n",
    "v = [1,3,5,7]\n",
    "x = np.diag(v)\n",
    "print(x)"
   ]
  },
  {
   "cell_type": "code",
   "execution_count": 47,
   "id": "a188202a",
   "metadata": {
    "ExecuteTime": {
     "end_time": "2024-02-23T06:52:00.591826Z",
     "start_time": "2024-02-23T06:52:00.583829Z"
    }
   },
   "outputs": [
    {
     "name": "stdout",
     "output_type": "stream",
     "text": [
      "[7 7]\n",
      "[7 7]\n",
      "[[7 7 7 7 7 7 7]\n",
      " [7 7 7 7 7 7 7]]\n",
      "[[7 7 7]\n",
      " [7 7 7]]\n"
     ]
    }
   ],
   "source": [
    "# full函数相关\n",
    "x = np.full((2,), 7)\n",
    "print(x)\n",
    "x = np.full(2, 7)\n",
    "print(x)\n",
    "x = np.full((2,7), 7)\n",
    "print(x)\n",
    "x = np.array([[1,2,3], [4,5,6]])\n",
    "y = np.full_like(x,7)\n",
    "print(y)"
   ]
  },
  {
   "cell_type": "code",
   "execution_count": 50,
   "id": "7bbe78bb",
   "metadata": {
    "ExecuteTime": {
     "end_time": "2024-02-23T07:01:49.152376Z",
     "start_time": "2024-02-23T07:01:49.132296Z"
    }
   },
   "outputs": [
    {
     "name": "stdout",
     "output_type": "stream",
     "text": [
      "[0 1 2 3 4]\n",
      "[3 5]\n",
      "[0.   0.25 0.5  0.75 1.   1.25 1.5  1.75 2.  ]\n",
      "[ 1.    1.78  3.16  5.62 10.  ]\n",
      "[ 1.    1.78  3.16  5.62 10.  ]\n",
      "[0.30940028 0.22763538 0.30006168 0.95435816 0.45419465]\n",
      "[[0.53596564 0.14881121 0.12304416]\n",
      " [0.48454338 0.34090522 0.56052073]]\n"
     ]
    }
   ],
   "source": [
    "x = np.arange(5)\n",
    "print(x)\n",
    "x = np.arange(3,7,2)\n",
    "print(x)\n",
    "x = np.linspace(start=0, stop=2, num=9)\n",
    "print(x)\n",
    "x = np.logspace(0,1,5)\n",
    "print(np.around(x,2)) # np.around()返回四舍五入后的值，可指定精度 around(a, decimals=0, out=None)\n",
    "# 使用np.linspace实现np.logspace的效果\n",
    "x = np.linspace(start=0, stop=1, num=5)\n",
    "x = [10**i for i in x]\n",
    "print(np.around(x,2))\n",
    "x = np.random.random(5)\n",
    "print(x)\n",
    "x = np.random.random([2,3])\n",
    "print(x)"
   ]
  },
  {
   "cell_type": "code",
   "execution_count": 52,
   "id": "379ed680",
   "metadata": {
    "ExecuteTime": {
     "end_time": "2024-02-23T07:08:41.757942Z",
     "start_time": "2024-02-23T07:08:41.740194Z"
    }
   },
   "outputs": [
    {
     "name": "stdout",
     "output_type": "stream",
     "text": [
      "[('LiMing', 24, 63.9) ('Mike', 15, 67. ) ('Jan', 34, 45.9)] <class 'numpy.ndarray'>\n"
     ]
    }
   ],
   "source": [
    "# 利用字典自定义结构\n",
    "personType = np.dtype({\n",
    "    'names': ['name', 'age', 'weight'],\n",
    "    'formats': ['U30', 'i8', 'f8']\n",
    "})\n",
    "a = np.array([('LiMing', 24, 63.9), ('Mike', 15, 67), ('Jan', 34, 45.9)], dtype=personType)\n",
    "print(a, type(a))"
   ]
  },
  {
   "cell_type": "code",
   "execution_count": 54,
   "id": "b31198a0",
   "metadata": {
    "ExecuteTime": {
     "end_time": "2024-02-23T07:11:14.281346Z",
     "start_time": "2024-02-23T07:11:14.262240Z"
    }
   },
   "outputs": [
    {
     "name": "stdout",
     "output_type": "stream",
     "text": [
      "[('LiMing', 24, 63.9) ('Mike', 15, 67. ) ('Jan', 34, 45.9)] <class 'numpy.ndarray'>\n",
      "('LiMing', 24, 63.9)\n",
      "[('Mike', 15, 67. ) ('Jan', 34, 45.9)]\n",
      "['LiMing' 'Mike' 'Jan']\n",
      "[24 15 34]\n",
      "[63.9 67.  45.9]\n"
     ]
    }
   ],
   "source": [
    "# 利用包含多个元组的列表定义结构\n",
    "personType = np.dtype([('name', 'U30'), ('age', 'i8'), ('weight', 'f8')])\n",
    "a = np.array([('LiMing', 24, 63.9), ('Mike', 15, 67), ('Jan', 34, 45.9)], dtype=personType)\n",
    "print(a, type(a))\n",
    "print(a[0])\n",
    "print(a[-2:])\n",
    "print(a['name'])\n",
    "print(a['age'])\n",
    "print(a['weight'])"
   ]
  },
  {
   "cell_type": "code",
   "execution_count": 55,
   "id": "b7aeec60",
   "metadata": {
    "ExecuteTime": {
     "end_time": "2024-02-23T07:17:01.487248Z",
     "start_time": "2024-02-23T07:17:01.479304Z"
    }
   },
   "outputs": [
    {
     "name": "stdout",
     "output_type": "stream",
     "text": [
      "(5,)\n",
      "int32\n",
      "5\n",
      "1\n",
      "4\n",
      "(2, 3)\n",
      "float64\n",
      "6\n",
      "2\n",
      "8\n",
      "[1 2 3 4 5]\n",
      "['1' '2' '3' '4' '5']\n",
      "[1. 2. 3. 4. 5.]\n"
     ]
    }
   ],
   "source": [
    "# 数组属性\n",
    "a = np.array([1,2,3,4,5])\n",
    "print(a.shape)\n",
    "print(a.dtype)\n",
    "print(a.size)\n",
    "print(a.ndim)\n",
    "print(a.itemsize)\n",
    "\n",
    "b = np.array([[1,2,3], [4,5,6.0]])\n",
    "print(b.shape)\n",
    "print(b.dtype)\n",
    "print(b.size)\n",
    "print(b.ndim)\n",
    "print(b.itemsize)\n",
    "\n",
    "a = np.array([1, 2, 3, 4, 5])\n",
    "print(a)  # [1 2 3 4 5]\n",
    "b = np.array([1, 2, 3, 4, '5'])\n",
    "print(b)  # ['1' '2' '3' '4' '5']\n",
    "c = np.array([1, 2, 3, 4, 5.0])\n",
    "print(c)  # [1. 2. 3. 4. 5.]"
   ]
  },
  {
   "cell_type": "markdown",
   "id": "4c984814",
   "metadata": {},
   "source": [
    "# 数组的创建练习"
   ]
  },
  {
   "cell_type": "code",
   "execution_count": 56,
   "id": "a49da590",
   "metadata": {
    "ExecuteTime": {
     "end_time": "2024-02-23T07:41:15.166138Z",
     "start_time": "2024-02-23T07:41:15.154007Z"
    }
   },
   "outputs": [
    {
     "data": {
      "text/plain": [
       "nan"
      ]
     },
     "execution_count": 56,
     "metadata": {},
     "output_type": "execute_result"
    }
   ],
   "source": [
    "0*np.nan"
   ]
  },
  {
   "cell_type": "code",
   "execution_count": 57,
   "id": "8b6d1512",
   "metadata": {
    "ExecuteTime": {
     "end_time": "2024-02-23T07:41:28.062984Z",
     "start_time": "2024-02-23T07:41:28.050982Z"
    }
   },
   "outputs": [
    {
     "data": {
      "text/plain": [
       "False"
      ]
     },
     "execution_count": 57,
     "metadata": {},
     "output_type": "execute_result"
    }
   ],
   "source": [
    "np.nan==np.nan"
   ]
  },
  {
   "cell_type": "code",
   "execution_count": 58,
   "id": "4446be9c",
   "metadata": {
    "ExecuteTime": {
     "end_time": "2024-02-23T07:41:35.809410Z",
     "start_time": "2024-02-23T07:41:35.792401Z"
    }
   },
   "outputs": [
    {
     "data": {
      "text/plain": [
       "False"
      ]
     },
     "execution_count": 58,
     "metadata": {},
     "output_type": "execute_result"
    }
   ],
   "source": [
    "np.inf > np.nan"
   ]
  },
  {
   "cell_type": "code",
   "execution_count": 59,
   "id": "2e9252c8",
   "metadata": {
    "ExecuteTime": {
     "end_time": "2024-02-23T07:41:48.258307Z",
     "start_time": "2024-02-23T07:41:48.242528Z"
    }
   },
   "outputs": [
    {
     "data": {
      "text/plain": [
       "nan"
      ]
     },
     "execution_count": 59,
     "metadata": {},
     "output_type": "execute_result"
    }
   ],
   "source": [
    "np.nan - np.nan"
   ]
  },
  {
   "cell_type": "code",
   "execution_count": 60,
   "id": "2c84062f",
   "metadata": {
    "ExecuteTime": {
     "end_time": "2024-02-23T07:41:57.117793Z",
     "start_time": "2024-02-23T07:41:57.097688Z"
    }
   },
   "outputs": [
    {
     "data": {
      "text/plain": [
       "False"
      ]
     },
     "execution_count": 60,
     "metadata": {},
     "output_type": "execute_result"
    }
   ],
   "source": [
    "0.3 == 3 * 0.1"
   ]
  },
  {
   "cell_type": "markdown",
   "id": "f0d82bbd",
   "metadata": {
    "ExecuteTime": {
     "end_time": "2024-02-23T07:47:55.022043Z",
     "start_time": "2024-02-23T07:47:55.002555Z"
    }
   },
   "source": [
    "1. 如何将numpy的datetime64对象转换为datetime的datetime对象？\n",
    "2. 如何填写不规则系列的numpy日期中的缺失日期？\n",
    "3. 如何得到昨天，今天，明天的的日期\n",
    "4. 创建从0到9的一维数字数组\n",
    "5. 创建一个元素全为True的 3×3 数组\n",
    "6. 创建一个长度为10并且除了第五个值为1的空向量\n",
    "7. 创建一个值域范围从10到49的向量\n",
    "8. 创建一个 3x3x3的随机数组\n",
    "9. 创建一个二维数组，其中边界值为1，其余值为0\n",
    "10. 创建长度为10的numpy数组，从5开始，在连续的数字之间的步长为3\n",
    "11. 将本地图像导入并将其转换为numpy数组"
   ]
  },
  {
   "cell_type": "code",
   "execution_count": 61,
   "id": "d0fc211d",
   "metadata": {
    "ExecuteTime": {
     "end_time": "2024-02-23T07:43:58.704936Z",
     "start_time": "2024-02-23T07:43:58.685222Z"
    }
   },
   "outputs": [
    {
     "name": "stdout",
     "output_type": "stream",
     "text": [
      "2020-02-25 22:10:10\n"
     ]
    }
   ],
   "source": [
    "dt64 = np.datetime64('2020-02-25 22:10:10')\n",
    "dt2 = dt64.astype(datetime.datetime)\n",
    "print(dt2)"
   ]
  },
  {
   "cell_type": "code",
   "execution_count": 71,
   "id": "388ea3bd",
   "metadata": {
    "ExecuteTime": {
     "end_time": "2024-02-23T08:08:08.859239Z",
     "start_time": "2024-02-23T08:08:08.844228Z"
    }
   },
   "outputs": [
    {
     "name": "stdout",
     "output_type": "stream",
     "text": [
      "['2020-02-01' '2020-02-03' '2020-02-05' '2020-02-07' '2020-02-09']\n",
      "['2020-02-01' '2020-02-02' '2020-02-03' '2020-02-04' '2020-02-05'\n",
      " '2020-02-06' '2020-02-07' '2020-02-08' '2020-02-09']\n"
     ]
    }
   ],
   "source": [
    "dates = np.arange('2020-02-01', '2020-02-10', 2, np.datetime64)\n",
    "print(dates)\n",
    "begindate = dates[0]\n",
    "enddate = dates[-1] + np.timedelta64(1, 'D')\n",
    "dates = np.arange(begindate, enddate, 1, np.datetime64)\n",
    "print(dates)"
   ]
  },
  {
   "cell_type": "code",
   "execution_count": 72,
   "id": "365514df",
   "metadata": {
    "ExecuteTime": {
     "end_time": "2024-02-23T08:10:30.919385Z",
     "start_time": "2024-02-23T08:10:30.901369Z"
    }
   },
   "outputs": [
    {
     "name": "stdout",
     "output_type": "stream",
     "text": [
      "2024-02-23\n",
      "2024-02-22\n",
      "2024-02-24\n"
     ]
    }
   ],
   "source": [
    "# 怎么得到今天的日期啊？\n",
    "# 先随便搞一个日期吧\n",
    "today = np.datetime64('2024-02-23')\n",
    "yesterday = today - np.timedelta64(1, 'D')\n",
    "tomorrow = today + np.timedelta64(1, 'D')\n",
    "print(today)\n",
    "print(yesterday)\n",
    "print(tomorrow)"
   ]
  },
  {
   "cell_type": "code",
   "execution_count": 73,
   "id": "488ca5d1",
   "metadata": {
    "ExecuteTime": {
     "end_time": "2024-02-23T08:10:51.129058Z",
     "start_time": "2024-02-23T08:10:51.109032Z"
    }
   },
   "outputs": [
    {
     "name": "stdout",
     "output_type": "stream",
     "text": [
      "[0 1 2 3 4 5 6 7 8 9]\n"
     ]
    }
   ],
   "source": [
    "# 0~9\n",
    "a = np.arange(0,10)\n",
    "print(a)"
   ]
  },
  {
   "cell_type": "code",
   "execution_count": 75,
   "id": "28ba0637",
   "metadata": {
    "ExecuteTime": {
     "end_time": "2024-02-23T08:11:19.332312Z",
     "start_time": "2024-02-23T08:11:19.319313Z"
    }
   },
   "outputs": [
    {
     "name": "stdout",
     "output_type": "stream",
     "text": [
      "[[ True  True  True]\n",
      " [ True  True  True]\n",
      " [ True  True  True]]\n"
     ]
    }
   ],
   "source": [
    "# 布尔数组\n",
    "a = np.full((3,3), True)\n",
    "print(a)"
   ]
  },
  {
   "cell_type": "code",
   "execution_count": 87,
   "id": "b3372d0d",
   "metadata": {
    "ExecuteTime": {
     "end_time": "2024-02-23T08:23:59.180401Z",
     "start_time": "2024-02-23T08:23:59.171647Z"
    }
   },
   "outputs": [
    {
     "name": "stdout",
     "output_type": "stream",
     "text": [
      "[0. 0. 0. 0. 1. 0. 0. 0. 0. 0.]\n"
     ]
    }
   ],
   "source": [
    "# 长度为10， 除了第五个值为1的空向量？\n",
    "a = np.zeros(10)\n",
    "a[4] = 1\n",
    "print(a)"
   ]
  },
  {
   "cell_type": "code",
   "execution_count": 76,
   "id": "e178ea5a",
   "metadata": {
    "ExecuteTime": {
     "end_time": "2024-02-23T08:12:37.181283Z",
     "start_time": "2024-02-23T08:12:37.175283Z"
    }
   },
   "outputs": [
    {
     "name": "stdout",
     "output_type": "stream",
     "text": [
      "[10 11 12 13 14 15 16 17 18 19 20 21 22 23 24 25 26 27 28 29 30 31 32 33\n",
      " 34 35 36 37 38 39 40 41 42 43 44 45 46 47 48 49]\n"
     ]
    }
   ],
   "source": [
    "a = np.arange(10, 50)\n",
    "print(a)"
   ]
  },
  {
   "cell_type": "code",
   "execution_count": 77,
   "id": "42ae893e",
   "metadata": {
    "ExecuteTime": {
     "end_time": "2024-02-23T08:12:58.887391Z",
     "start_time": "2024-02-23T08:12:58.868258Z"
    }
   },
   "outputs": [
    {
     "name": "stdout",
     "output_type": "stream",
     "text": [
      "[[[0.82419913 0.5999049  0.76874503]\n",
      "  [0.56842444 0.76590315 0.20946612]\n",
      "  [0.08763596 0.03717465 0.65043936]]\n",
      "\n",
      " [[0.87405804 0.37577745 0.26938512]\n",
      "  [0.73974971 0.8916477  0.98448363]\n",
      "  [0.41755428 0.1260998  0.27028164]]\n",
      "\n",
      " [[0.430904   0.58712705 0.08607508]\n",
      "  [0.3511812  0.67492515 0.18733117]\n",
      "  [0.55754083 0.97824122 0.43259657]]]\n"
     ]
    }
   ],
   "source": [
    "a = np.random.rand(3,3,3)\n",
    "print(a)"
   ]
  },
  {
   "cell_type": "code",
   "execution_count": 88,
   "id": "bdc50fa2",
   "metadata": {
    "ExecuteTime": {
     "end_time": "2024-02-23T08:24:41.290459Z",
     "start_time": "2024-02-23T08:24:41.284914Z"
    }
   },
   "outputs": [
    {
     "name": "stdout",
     "output_type": "stream",
     "text": [
      "[[1. 1. 1. 1. 1. 1. 1. 1. 1. 1.]\n",
      " [1. 0. 0. 0. 0. 0. 0. 0. 0. 1.]\n",
      " [1. 0. 0. 0. 0. 0. 0. 0. 0. 1.]\n",
      " [1. 0. 0. 0. 0. 0. 0. 0. 0. 1.]\n",
      " [1. 0. 0. 0. 0. 0. 0. 0. 0. 1.]\n",
      " [1. 0. 0. 0. 0. 0. 0. 0. 0. 1.]\n",
      " [1. 0. 0. 0. 0. 0. 0. 0. 0. 1.]\n",
      " [1. 0. 0. 0. 0. 0. 0. 0. 0. 1.]\n",
      " [1. 0. 0. 0. 0. 0. 0. 0. 0. 1.]\n",
      " [1. 1. 1. 1. 1. 1. 1. 1. 1. 1.]]\n"
     ]
    }
   ],
   "source": [
    "# 边界值为1，其余值为0的二维数组？\n",
    "Z = np.ones((10,10))\n",
    "Z[1:-1,1:-1] = 0 # 将排除掉边界后的元素设置为0\n",
    "print(Z)"
   ]
  },
  {
   "cell_type": "code",
   "execution_count": 80,
   "id": "ea90fa35",
   "metadata": {
    "ExecuteTime": {
     "end_time": "2024-02-23T08:14:37.139261Z",
     "start_time": "2024-02-23T08:14:37.129261Z"
    }
   },
   "outputs": [
    {
     "name": "stdout",
     "output_type": "stream",
     "text": [
      "[ 5  8 11 14 17 20 23 26 29 32]\n"
     ]
    }
   ],
   "source": [
    "# 长度为10，从5开始，步长为3的数组？\n",
    "a = np.arange(5, 5+10*3, 3)\n",
    "print(a)"
   ]
  },
  {
   "cell_type": "code",
   "execution_count": null,
   "id": "186c1899",
   "metadata": {},
   "outputs": [],
   "source": [
    "# 本地图像导入并转化为numpy数组？"
   ]
  },
  {
   "cell_type": "markdown",
   "id": "5db26c71",
   "metadata": {},
   "source": [
    "# 数组的创建练习——答案"
   ]
  },
  {
   "cell_type": "code",
   "execution_count": 83,
   "id": "f8ad3682",
   "metadata": {
    "ExecuteTime": {
     "end_time": "2024-02-23T08:21:45.973509Z",
     "start_time": "2024-02-23T08:21:45.955400Z"
    }
   },
   "outputs": [
    {
     "name": "stdout",
     "output_type": "stream",
     "text": [
      "['2020-02-01' '2020-02-03' '2020-02-05' '2020-02-07' '2020-02-09']\n",
      "\n",
      "[numpy.datetime64('2020-02-01'), numpy.datetime64('2020-02-02'), numpy.datetime64('2020-02-03'), numpy.datetime64('2020-02-04'), numpy.datetime64('2020-02-05'), numpy.datetime64('2020-02-06'), numpy.datetime64('2020-02-07'), numpy.datetime64('2020-02-08')]\n",
      "\n",
      "['2020-02-01' '2020-02-02' '2020-02-03' '2020-02-04' '2020-02-05'\n",
      " '2020-02-06' '2020-02-07' '2020-02-08']\n",
      "\n",
      "['2020-02-01' '2020-02-02' '2020-02-03' '2020-02-04' '2020-02-05'\n",
      " '2020-02-06' '2020-02-07' '2020-02-08' '2020-02-09']\n"
     ]
    }
   ],
   "source": [
    "# 如何填充一个包含不规则间隔的numpy日期中的缺失日期？ # 这个处理常用于时间序列分析中\n",
    "dates = np.arange('2020-02-01', '2020-02-10', 2, np.datetime64)\n",
    "print(dates)\n",
    "print()\n",
    "out = []\n",
    "for date, d in zip(dates, np.diff(dates)): # 这里的np.diff求得日期数组中后一个日期与当前日期的差值，可适用于间隔不规则的数组\n",
    "    out.extend(np.arange(date, date + d))\n",
    "print(out)\n",
    "print()\n",
    "fillin = np.array(out)\n",
    "print(fillin)\n",
    "print()\n",
    "output = np.hstack([fillin, dates[-1]])\n",
    "print(output)"
   ]
  },
  {
   "cell_type": "code",
   "execution_count": 86,
   "id": "5234cb0e",
   "metadata": {
    "ExecuteTime": {
     "end_time": "2024-02-23T08:23:10.896981Z",
     "start_time": "2024-02-23T08:23:10.876736Z"
    }
   },
   "outputs": [
    {
     "name": "stdout",
     "output_type": "stream",
     "text": [
      "Yesterday is 2024-02-22\n",
      "Today is 2024-02-23\n",
      "Tomorrow is 2024-02-24\n"
     ]
    }
   ],
   "source": [
    "# 如何得到昨天，今天，明天的的日期?\n",
    "yesterday = np.datetime64('today', 'D') - np.timedelta64(1, 'D')\n",
    "today     = np.datetime64('today', 'D') # 通过这个方式获得今天的日期\n",
    "tomorrow  = np.datetime64('today', 'D') + np.timedelta64(1, 'D')\n",
    "print (\"Yesterday is \" + str(yesterday))\n",
    "print (\"Today is \" + str(today))\n",
    "print (\"Tomorrow is \"+ str(tomorrow))"
   ]
  },
  {
   "cell_type": "code",
   "execution_count": 2,
   "id": "a7518a25",
   "metadata": {
    "ExecuteTime": {
     "end_time": "2024-02-23T08:31:29.622190Z",
     "start_time": "2024-02-23T08:31:29.329901Z"
    }
   },
   "outputs": [
    {
     "name": "stdout",
     "output_type": "stream",
     "text": [
      "(673, 1050, 4) uint8\n"
     ]
    }
   ],
   "source": [
    "# 如何将图像转换为numpy数组？\n",
    "# 主要不知道怎么读取图片\n",
    "import numpy as np\n",
    "from PIL import Image\n",
    "\n",
    "img1 = Image.open('test.jpg')\n",
    "a = np.array(img1)\n",
    "\n",
    "print(a.shape, a.dtype) # (673, 1050, 4) uint8 在通常的RGB通道之外还有一个alpha通道表示图像透明度"
   ]
  }
 ],
 "metadata": {
  "kernelspec": {
   "display_name": "Python 3 (ipykernel)",
   "language": "python",
   "name": "python3"
  },
  "language_info": {
   "codemirror_mode": {
    "name": "ipython",
    "version": 3
   },
   "file_extension": ".py",
   "mimetype": "text/x-python",
   "name": "python",
   "nbconvert_exporter": "python",
   "pygments_lexer": "ipython3",
   "version": "3.9.13"
  }
 },
 "nbformat": 4,
 "nbformat_minor": 5
}
