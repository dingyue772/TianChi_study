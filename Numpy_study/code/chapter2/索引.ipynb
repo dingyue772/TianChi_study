{
 "cells": [
  {
   "cell_type": "markdown",
   "id": "02161d4e",
   "metadata": {},
   "source": [
    "# 索引、切片与迭代"
   ]
  },
  {
   "cell_type": "code",
   "execution_count": 1,
   "id": "fc658b66",
   "metadata": {
    "ExecuteTime": {
     "end_time": "2024-02-23T15:34:06.835209Z",
     "start_time": "2024-02-23T15:34:06.693329Z"
    }
   },
   "outputs": [
    {
     "name": "stdout",
     "output_type": "stream",
     "text": [
      "[-1  2  3  4  5  6  7  8]\n",
      "[-1  2  3  4  5  6  7  8]\n",
      "[1 2 3 4 5 6 7 8]\n",
      "[-1  2  3  4  5  6  7  8]\n"
     ]
    }
   ],
   "source": [
    "import numpy as np\n",
    "x = np.array([1,2,3,4,5,6,7,8])\n",
    "y = x\n",
    "y[0] = -1\n",
    "print(x)\n",
    "print(y)\n",
    "\n",
    "x = np.array([1, 2, 3, 4, 5, 6, 7, 8])\n",
    "y = x.copy()\n",
    "y[0] = -1\n",
    "print(x)\n",
    "print(y)"
   ]
  },
  {
   "cell_type": "code",
   "execution_count": null,
   "id": "f2ec5c0a",
   "metadata": {},
   "outputs": [],
   "source": []
  }
 ],
 "metadata": {
  "kernelspec": {
   "display_name": "Python 3 (ipykernel)",
   "language": "python",
   "name": "python3"
  },
  "language_info": {
   "codemirror_mode": {
    "name": "ipython",
    "version": 3
   },
   "file_extension": ".py",
   "mimetype": "text/x-python",
   "name": "python",
   "nbconvert_exporter": "python",
   "pygments_lexer": "ipython3",
   "version": "3.9.13"
  }
 },
 "nbformat": 4,
 "nbformat_minor": 5
}
