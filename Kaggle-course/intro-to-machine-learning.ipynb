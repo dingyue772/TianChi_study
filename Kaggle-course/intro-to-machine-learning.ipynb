{
 "cells": [
  {
   "cell_type": "markdown",
   "id": "c0332fe8",
   "metadata": {
    "papermill": {
     "duration": 0.002128,
     "end_time": "2024-03-03T13:56:46.785187",
     "exception": false,
     "start_time": "2024-03-03T13:56:46.783059",
     "status": "completed"
    },
    "tags": []
   },
   "source": [
    "# 第一个机器学习模型\n",
    "## 建模数据选取\n",
    "仅选取数据集的某些列进行建模，根据直觉进行选择or通过排序选择重要变量\n",
    "```python\n",
    "pd.read_csv() # 读取csv文件方法\n",
    "data.columns # 展示数据集的所有属性名\n",
    "data = data.dropna(axis=0) # 处理缺失值，直接删除\n",
    "```\n",
    "**构造数据集的子集进行训练**\n",
    "使用`.`选择ground truth目标属性，即target\n",
    "使用`[]`column list选择训练特征，即features\n",
    "```\n",
    "y = data.Price\n",
    "features = ['feature1', 'feature2', ..., 'featrue_n']\n",
    "X = data[features]\n",
    "# a quick review\n",
    "X.describe()\n",
    "X.head()\n",
    "```\n",
    "## 模型建立\n",
    "使用`scikit-learn`库\n",
    "使用步骤包括：\n",
    "1. define 定义模型\n",
    "2. fit 训练模型\n",
    "3. predict 模型预测\n",
    "4. evaluate 模型评估\n",
    "注意：\n",
    "`random_state`在模型定义中的使用，为了确保模型在每次运行后得到相同的结果，我们将specify这个变量进行控制\n",
    "\n",
    "```python\n",
    "from sklearn.tree import DecisionTreeRegressor\n",
    "melbourne_model = DecisionTreeRegressor(random_state=1)\n",
    "melbourne_model.fit(X, y)\n",
    "melbourne_model.predict(X.head()\n",
    "```"
   ]
  }
 ],
 "metadata": {
  "kaggle": {
   "accelerator": "none",
   "dataSources": [],
   "isGpuEnabled": false,
   "isInternetEnabled": false,
   "language": "python",
   "sourceType": "notebook"
  },
  "kernelspec": {
   "display_name": "Python 3",
   "language": "python",
   "name": "python3"
  },
  "language_info": {
   "codemirror_mode": {
    "name": "ipython",
    "version": 3
   },
   "file_extension": ".py",
   "mimetype": "text/x-python",
   "name": "python",
   "nbconvert_exporter": "python",
   "pygments_lexer": "ipython3",
   "version": "3.10.13"
  },
  "papermill": {
   "default_parameters": {},
   "duration": 3.63199,
   "end_time": "2024-03-03T13:56:47.208301",
   "environment_variables": {},
   "exception": null,
   "input_path": "__notebook__.ipynb",
   "output_path": "__notebook__.ipynb",
   "parameters": {},
   "start_time": "2024-03-03T13:56:43.576311",
   "version": "2.5.0"
  }
 },
 "nbformat": 4,
 "nbformat_minor": 5
}
